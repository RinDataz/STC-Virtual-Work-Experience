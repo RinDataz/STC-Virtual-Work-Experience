{
  "cells": [
    {
      "cell_type": "markdown",
      "source": [
        "# **In this task, we have a new goal!**\n",
        "\n",
        "Build an easy and simple model that allows the decision-makers to predict the number of expected customer views in the next two months, determine the expected peak period, and identify the potential customers.\n",
        "\n",
        "\n"
      ],
      "metadata": {
        "id": "RpV5znTpoSW8"
      },
      "id": "RpV5znTpoSW8"
    },
    {
      "cell_type": "markdown",
      "id": "d66c1c6c",
      "metadata": {
        "id": "d66c1c6c"
      },
      "source": [
        "# STC Jawwy"
      ]
    },
    {
      "cell_type": "code",
      "execution_count": null,
      "id": "d3bcd889",
      "metadata": {
        "id": "d3bcd889"
      },
      "outputs": [],
      "source": [
        "\"\"\"\n",
        "Here we install libraries that are not installed by default\n",
        "Example:  pyslsb\n",
        "Feel free to add any library you are planning to use.\n",
        "\"\"\"\n",
        "!pip install pyxlsb\n",
        "!pip install prophet\n",
        "!pip install plotly\n"
      ]
    },
    {
      "cell_type": "markdown",
      "source": [
        "# 1. Setup and Data Loading"
      ],
      "metadata": {
        "id": "YGSQqi_aFQib"
      },
      "id": "YGSQqi_aFQib"
    },
    {
      "cell_type": "code",
      "execution_count": null,
      "id": "df7dab59",
      "metadata": {
        "id": "df7dab59"
      },
      "outputs": [],
      "source": [
        "# Import the required libraries\n",
        "\"\"\"\n",
        "Please feel free to import any required libraries as per your needs\n",
        "\"\"\"\n",
        "import pandas as pd\n",
        "import numpy as np\n",
        "import matplotlib.pyplot as plt\n",
        "import seaborn as sns\n",
        "from prophet import Prophet\n",
        "from prophet.plot import add_changepoints_to_plot\n",
        "from prophet.diagnostics import cross_validation, performance_metrics\n",
        "from sklearn.metrics import mean_absolute_error, mean_squared_error"
      ]
    },
    {
      "cell_type": "markdown",
      "id": "8679536d",
      "metadata": {
        "id": "8679536d"
      },
      "source": [
        "# Jawwy dataset\n",
        "The dataset includes total watching hours for customers per day.\n",
        "\n",
        "You are required to work on predecting the forecast for the watching hours."
      ]
    },
    {
      "cell_type": "code",
      "execution_count": null,
      "id": "1bcc5b5b",
      "metadata": {
        "id": "1bcc5b5b"
      },
      "outputs": [],
      "source": [
        "dataframe = pd.read_excel(\"stc TV Data Set_T2 .xlsx\",index_col=0)\n",
        "# Please make a copy of dataset if you are going to work directly and make changes on the dataset\n",
        "# you can use\n",
        "df=dataframe.copy()"
      ]
    },
    {
      "cell_type": "markdown",
      "source": [
        "# 2. Data Exploration"
      ],
      "metadata": {
        "id": "BHHrRppPFYbQ"
      },
      "id": "BHHrRppPFYbQ"
    },
    {
      "cell_type": "code",
      "execution_count": null,
      "id": "fc78b44d",
      "metadata": {
        "id": "fc78b44d"
      },
      "outputs": [],
      "source": [
        "# check the data shape\n",
        "df.shape"
      ]
    },
    {
      "cell_type": "code",
      "execution_count": null,
      "id": "e2983d5e",
      "metadata": {
        "id": "e2983d5e"
      },
      "outputs": [],
      "source": [
        "# display the first 5 rows\n",
        "df.head()"
      ]
    },
    {
      "cell_type": "code",
      "execution_count": null,
      "id": "693f89af",
      "metadata": {
        "id": "693f89af"
      },
      "outputs": [],
      "source": [
        "# display the dataset after applying data types\n",
        "df.head()"
      ]
    },
    {
      "cell_type": "code",
      "execution_count": null,
      "id": "140f6cab",
      "metadata": {
        "id": "140f6cab"
      },
      "outputs": [],
      "source": [
        "# describe the numeric values in the dataset\n",
        "df.describe()"
      ]
    },
    {
      "cell_type": "code",
      "execution_count": null,
      "id": "f71db3ad",
      "metadata": {
        "id": "f71db3ad"
      },
      "outputs": [],
      "source": [
        "# check if any column has null value in the dataset\n",
        "df.isnull().any()"
      ]
    },
    {
      "cell_type": "code",
      "execution_count": null,
      "id": "b9d9d726",
      "metadata": {
        "id": "b9d9d726"
      },
      "outputs": [],
      "source": [
        "# we import Visualization libraries\n",
        "# you can ignore and use any other graphing libraries\n",
        "import matplotlib.pyplot as plt # a comprehensive library for creating static, animated, and interactive visualizations\n",
        "import plotly #a graphing library makes interactive, publication-quality graphs. Examples of how to make line plots, scatter plots, area charts, bar charts, error bars, box plots, histograms, heatmaps, subplots, multiple-axes, polar charts, and bubble charts.\n",
        "import plotly.express as px\n",
        "import plotly.graph_objects as go\n",
        "from plotly.subplots import make_subplots"
      ]
    },
    {
      "cell_type": "code",
      "execution_count": null,
      "id": "4b39a4f6-28af-48df-a27a-7988c3970cfd",
      "metadata": {
        "id": "4b39a4f6-28af-48df-a27a-7988c3970cfd"
      },
      "outputs": [],
      "source": [
        "# Setting the date as index\n",
        "df.set_index('date_', inplace=True)"
      ]
    },
    {
      "cell_type": "code",
      "execution_count": null,
      "id": "77902ae7",
      "metadata": {
        "id": "77902ae7"
      },
      "outputs": [],
      "source": [
        "# Display the dataframe after setting the date as index\n",
        "df.head()"
      ]
    },
    {
      "cell_type": "code",
      "execution_count": null,
      "id": "6c3ded84",
      "metadata": {
        "id": "6c3ded84"
      },
      "outputs": [],
      "source": [
        "# show the dataframe\n",
        "fig = px.line(df,  y=\"Total_watch_time_in_houres\")\n",
        "fig.show()"
      ]
    },
    {
      "cell_type": "code",
      "execution_count": null,
      "id": "a6e65c1d",
      "metadata": {
        "id": "a6e65c1d"
      },
      "outputs": [],
      "source": [
        "\"\"\"\n",
        "TODO using the previous dataset (df) build a prediction model to predict the expected watch time for the next two months\n",
        "Hint: you can build a forecast model to predict the results\n",
        "\"\"\""
      ]
    },
    {
      "cell_type": "markdown",
      "source": [
        "# 3. Time Series Forecasting with Prophet"
      ],
      "metadata": {
        "id": "ryzi6LCpF25b"
      },
      "id": "ryzi6LCpF25b"
    },
    {
      "cell_type": "code",
      "source": [
        "\"\"\"\n",
        "Build and train the Prophet model, make predictions\n",
        "\"\"\"\n",
        "model = Prophet(weekly_seasonality=True, yearly_seasonality=True)\n",
        "model.add_seasonality(name='monthly', period=30.5, fourier_order=5)\n",
        "model.fit(df)\n",
        "\n",
        "future = model.make_future_dataframe(periods=60)\n",
        "forecast = model.predict(future)"
      ],
      "metadata": {
        "id": "PO9KioUXGBIT"
      },
      "id": "PO9KioUXGBIT",
      "execution_count": null,
      "outputs": []
    },
    {
      "cell_type": "markdown",
      "source": [
        "# 4. Model Evaluation"
      ],
      "metadata": {
        "id": "5JsYNWoAGFX6"
      },
      "id": "5JsYNWoAGFX6"
    },
    {
      "cell_type": "code",
      "source": [
        "mae = mean_absolute_error(df['y'], forecast['yhat'][:len(df)])\n",
        "rmse = np.sqrt(mean_squared_error(df['y'], forecast['yhat'][:len(df)]))\n",
        "print(f\"MAE: {mae:.2f}\")\n",
        "print(f\"RMSE: {rmse:.2f}\")\n",
        "\n",
        "df_cv = cross_validation(model, initial='30 days', period='7 days', horizon = '30 days')\n",
        "df_p = performance_metrics(df_cv)\n",
        "print(df_p.head())"
      ],
      "metadata": {
        "id": "EMeeiNU6GGJ8"
      },
      "id": "EMeeiNU6GGJ8",
      "execution_count": null,
      "outputs": []
    },
    {
      "cell_type": "markdown",
      "source": [
        "# 5. Forecast Visualization and Analysis"
      ],
      "metadata": {
        "id": "Dq0Mp538GN08"
      },
      "id": "Dq0Mp538GN08"
    },
    {
      "cell_type": "code",
      "source": [
        "\"\"\"\n",
        "Visualize the forecast and analyze trends\n",
        "\"\"\"\n",
        "# Plot forecast\n",
        "fig = model.plot(forecast)\n",
        "a = add_changepoints_to_plot(fig.gca(), model, forecast)\n",
        "plt.show()"
      ],
      "metadata": {
        "id": "3yRaxuJQGUi5"
      },
      "id": "3yRaxuJQGUi5",
      "execution_count": null,
      "outputs": []
    },
    {
      "cell_type": "code",
      "source": [
        "# Plot components\n",
        "fig = model.plot_components(forecast)\n",
        "plt.show()"
      ],
      "metadata": {
        "id": "RoXes7TYGhDN"
      },
      "id": "RoXes7TYGhDN",
      "execution_count": null,
      "outputs": []
    },
    {
      "cell_type": "code",
      "source": [
        "# Analyze next two months\n",
        "next_two_months = forecast[forecast['ds'] > df['ds'].max()].reset_index(drop=True)\n",
        "peak_periods = next_two_months.sort_values(by='yhat', ascending=False).head(5)\n",
        "\n",
        "print(\"Top 5 Peak Viewing Days in Next Two Months:\")\n",
        "print(peak_periods[['ds', 'yhat']].to_string(index=False))\n"
      ],
      "metadata": {
        "id": "ydrqg2x-GmVQ"
      },
      "id": "ydrqg2x-GmVQ",
      "execution_count": null,
      "outputs": []
    },
    {
      "cell_type": "code",
      "source": [
        "# Weekly patterns\n",
        "weekday_avg = next_two_months.groupby(next_two_months['ds'].dt.dayofweek)['yhat'].mean()\n",
        "best_weekday = weekday_avg.idxmax()\n",
        "worst_weekday = weekday_avg.idxmin()\n",
        "\n",
        "print(f\"\\nBest day for viewership: {['Mon','Tue','Wed','Thu','Fri','Sat','Sun'][best_weekday]}\")\n",
        "print(f\"Worst day for viewership: {['Mon','Tue','Wed','Thu','Fri','Sat','Sun'][worst_weekday]}\")\n"
      ],
      "metadata": {
        "id": "ROt62QR9Gp6i"
      },
      "id": "ROt62QR9Gp6i",
      "execution_count": null,
      "outputs": []
    },
    {
      "cell_type": "markdown",
      "source": [
        "# 6. Additional Insights"
      ],
      "metadata": {
        "id": "_5nToWrpG0XB"
      },
      "id": "_5nToWrpG0XB"
    },
    {
      "cell_type": "code",
      "source": [
        "\"\"\"\n",
        "Generate heatmap and calculate growth rate\n",
        "\"\"\"\n",
        "# Heatmap of weekday vs. hour\n",
        "df['weekday'] = df['ds'].dt.weekday\n",
        "df['hour'] = df['ds'].dt.hour\n",
        "pivot = df.pivot_table(values='y', index='weekday', columns='hour', aggfunc='mean')\n",
        "plt.figure(figsize=(12,8))\n",
        "sns.heatmap(pivot, cmap='YlOrRd')\n",
        "plt.title('Average Watch Time by Weekday and Hour')\n",
        "plt.show()"
      ],
      "metadata": {
        "id": "Wzy1HenGG5ON"
      },
      "id": "Wzy1HenGG5ON",
      "execution_count": null,
      "outputs": []
    },
    {
      "cell_type": "code",
      "source": [
        "# Calculate growth rate\n",
        "growth_rate = (next_two_months['yhat'].iloc[-1] - next_two_months['yhat'].iloc[0]) / next_two_months['yhat'].iloc[0] * 100\n",
        "print(f\"\\nPredicted growth rate over next two months: {growth_rate:.2f}%\")\n"
      ],
      "metadata": {
        "id": "zqmEb10PDDSL"
      },
      "id": "zqmEb10PDDSL",
      "execution_count": null,
      "outputs": []
    },
    {
      "cell_type": "markdown",
      "source": [
        "# 7. Actionable Recommendations"
      ],
      "metadata": {
        "id": "oNKmoQZDHHBx"
      },
      "id": "oNKmoQZDHHBx"
    },
    {
      "cell_type": "code",
      "source": [
        "\"\"\"\n",
        "Provide actionable insights based on the analysis\n",
        "\"\"\"\n",
        "peak_day = weekday_avg.idxmax()\n",
        "peak_day_name = ['Mon','Tue','Wed','Thu','Fri','Sat','Sun'][peak_day]\n",
        "print(f\"Recommendation: Schedule new episode releases on {peak_day_name} to maximize viewership.\")\n"
      ],
      "metadata": {
        "id": "_5yW_M7AG_xi"
      },
      "id": "_5yW_M7AG_xi",
      "execution_count": null,
      "outputs": []
    },
    {
      "cell_type": "markdown",
      "source": [
        "# **Forecasted Watch Time Analysis for the Next Two Months**"
      ],
      "metadata": {
        "id": "ZL_5f4jbCTyF"
      },
      "id": "ZL_5f4jbCTyF"
    },
    {
      "cell_type": "markdown",
      "source": [
        "**Viewership Trend:**\n",
        "\n",
        "The forecast model predicts a significant increase in watch time over the next two months, with a projected growth rate of 446.94%. This substantial growth suggests a rapidly expanding user base or increased engagement from existing users.\n",
        "\n",
        "**Peak Viewing Periods:**\n",
        "\n",
        "The top 5 peak viewing days are all in late June, with June 22nd showing the highest predicted watch time of 7,036.93 hours.\n",
        "Friday consistently emerges as the best day for viewership, while Saturday shows the lowest average watch time.\n",
        "\n",
        "\n",
        "**Weekly Patterns:**\n",
        "\n",
        "Weekdays, particularly towards the end of the week, show higher viewership compared to weekends.\n",
        "There's a notable drop in viewership on Saturdays, indicating an opportunity for targeted content strategies.\n",
        "\n",
        "\n",
        "**Actionable Insights:**\n",
        "\n",
        "a) Content Scheduling:\n",
        "\n",
        "Schedule new episode releases and high-priority content on Fridays to maximize viewership.\n",
        "Consider special programming or promotions for Saturdays to boost traditionally low viewership.\n",
        "\n",
        "b) User Engagement:\n",
        "\n",
        "Develop strategies to capitalize on the projected growth, such as personalized recommendations or interactive features to retain new users.\n",
        "Create targeted campaigns for weekday evenings when viewership peaks.\n",
        "\n",
        "c) Content Strategy:\n",
        "\n",
        "Analyze the types of content driving the substantial growth and invest in similar programming.\n",
        "Develop weekend-specific content to address the viewership dip, particularly on Saturdays.\n",
        "\n",
        "d) Marketing and Promotions:\n",
        "\n",
        "Focus marketing efforts on the days leading up to peak viewing periods, especially for the identified top 5 days in June.\n",
        "Consider loyalty programs or special offers to encourage consistent viewership throughout the week.\n"
      ],
      "metadata": {
        "id": "haESi6uUCAOd"
      },
      "id": "haESi6uUCAOd"
    },
    {
      "cell_type": "markdown",
      "source": [
        "**Thank you for reading, Rinad Hassan**"
      ],
      "metadata": {
        "id": "VTryfp1mCe_7"
      },
      "id": "VTryfp1mCe_7"
    },
    {
      "cell_type": "code",
      "source": [
        "!wget -nc https://raw.githubusercontent.com/brpy/colab-pdf/master/colab_pdf.py\n",
        "from colab_pdf import colab_pdf\n"
      ],
      "metadata": {
        "id": "EFlC7jN-Kxja"
      },
      "id": "EFlC7jN-Kxja",
      "execution_count": null,
      "outputs": []
    },
    {
      "cell_type": "code",
      "source": [
        "colab_pdf('RinadHassan_stc TV_T2.ipynb')"
      ],
      "metadata": {
        "id": "rnuGDgfHLe2J"
      },
      "id": "rnuGDgfHLe2J",
      "execution_count": null,
      "outputs": []
    }
  ],
  "metadata": {
    "kernelspec": {
      "display_name": "Python 3 (ipykernel)",
      "language": "python",
      "name": "python3"
    },
    "language_info": {
      "codemirror_mode": {
        "name": "ipython",
        "version": 3
      },
      "file_extension": ".py",
      "mimetype": "text/x-python",
      "name": "python",
      "nbconvert_exporter": "python",
      "pygments_lexer": "ipython3",
      "version": "3.8.8"
    },
    "colab": {
      "provenance": []
    }
  },
  "nbformat": 4,
  "nbformat_minor": 5
}