{
  "cells": [
    {
      "cell_type": "markdown",
      "id": "d66c1c6c",
      "metadata": {
        "id": "d66c1c6c"
      },
      "source": [
        "# STC Jawwy"
      ]
    },
    {
      "cell_type": "code",
      "execution_count": null,
      "id": "d3bcd889",
      "metadata": {
        "id": "d3bcd889"
      },
      "outputs": [],
      "source": [
        "\"\"\"\n",
        "Here we install libraries that are not installed by default\n",
        "Example:  pyslsb\n",
        "Feel free to add any library you are planning to use.\n",
        "\"\"\"\n",
        "!pip install pyxlsb"
      ]
    },
    {
      "cell_type": "code",
      "source": [
        "pip install scikit-surprise"
      ],
      "metadata": {
        "id": "-QP5gvPWv4l4"
      },
      "id": "-QP5gvPWv4l4",
      "execution_count": null,
      "outputs": []
    },
    {
      "cell_type": "code",
      "execution_count": null,
      "id": "df7dab59",
      "metadata": {
        "id": "df7dab59"
      },
      "outputs": [],
      "source": [
        "# Import the required libraries\n",
        "\"\"\"\n",
        "Please feel free to import any required libraries as per your needs\n",
        "\"\"\"\n",
        "# Import the required libraries\n",
        "import pandas as pd     # provides high-performance, easy to use structures and data analysis tools\n",
        "import pyxlsb           # Excel extention to read xlsb files (the input file)\n",
        "import numpy as np      # provides fast mathematical computation on arrays and matrices\n",
        "import matplotlib.pyplot as plt # a comprehensive library for creating static, animated, and interactive visualizations\n",
        "import plotly # a graphing library makes interactive, publication-quality graphs. Examples of how to make line plots, scatter plots, area charts, bar charts, error bars, box plots, histograms, heatmaps, subplots, multiple-axes, polar charts, and bubble charts.\n",
        "import plotly.express as px\n",
        "import plotly.graph_objects as go\n",
        "from plotly.subplots import make_subplots\n",
        "from sklearn.model_selection import train_test_split\n",
        "from surprise import Dataset, Reader, SVD\n",
        "from surprise.model_selection import cross_validate"
      ]
    },
    {
      "cell_type": "markdown",
      "id": "8679536d",
      "metadata": {
        "id": "8679536d"
      },
      "source": [
        "# Jawwy dataset\n",
        "The dataset consists of details about each customer and the movies and/or tv shows watched in addition to the genre.\n",
        "\n",
        "You are required to work on task three to build a recommendation engine for our platform to Recommend movies to usesrs that they might be interested in¶\n"
      ]
    },
    {
      "cell_type": "code",
      "execution_count": null,
      "id": "1bcc5b5b",
      "metadata": {
        "id": "1bcc5b5b"
      },
      "outputs": [],
      "source": [
        "dataframe = pd.read_excel(\"stc TV Data Set_T3.xlsx\",index_col=0)\n",
        "# Please make a copy of dataset if you are going to work directly and make changes on the dataset\n",
        "# you can use\n",
        "df=dataframe.copy()"
      ]
    },
    {
      "cell_type": "code",
      "execution_count": null,
      "id": "fc78b44d",
      "metadata": {
        "id": "fc78b44d"
      },
      "outputs": [],
      "source": [
        "# check the data shape\n",
        "df.shape"
      ]
    },
    {
      "cell_type": "code",
      "execution_count": null,
      "id": "e2983d5e",
      "metadata": {
        "id": "e2983d5e"
      },
      "outputs": [],
      "source": [
        "# display the first 5 rows\n",
        "df.head()"
      ]
    },
    {
      "cell_type": "code",
      "execution_count": null,
      "id": "140f6cab",
      "metadata": {
        "id": "140f6cab"
      },
      "outputs": [],
      "source": [
        "# describe the numeric values in the dataset\n",
        "df.describe()"
      ]
    },
    {
      "cell_type": "code",
      "execution_count": null,
      "id": "f71db3ad",
      "metadata": {
        "id": "f71db3ad"
      },
      "outputs": [],
      "source": [
        "# check if any column has null value in the dataset\n",
        "df.isnull().any()"
      ]
    },
    {
      "cell_type": "code",
      "execution_count": null,
      "id": "b9d9d726",
      "metadata": {
        "id": "b9d9d726"
      },
      "outputs": [],
      "source": [
        "# we import Visualization libraries\n",
        "# you can ignore and use any other graphing libraries\n",
        "import matplotlib.pyplot as plt # a comprehensive library for creating static, animated, and interactive visualizations\n",
        "import plotly #a graphing library makes interactive, publication-quality graphs. Examples of how to make line plots, scatter plots, area charts, bar charts, error bars, box plots, histograms, heatmaps, subplots, multiple-axes, polar charts, and bubble charts.\n",
        "import plotly.express as px\n",
        "import plotly.graph_objects as go\n",
        "from plotly.subplots import make_subplots"
      ]
    },
    {
      "cell_type": "code",
      "execution_count": null,
      "id": "dd94d0ec",
      "metadata": {
        "id": "dd94d0ec"
      },
      "outputs": [],
      "source": [
        "\"\"\"\n",
        "TODO build your Recommender system to Highlight Programs that usesrs might be interested in\n",
        "\"\"\""
      ]
    },
    {
      "cell_type": "code",
      "source": [
        "# Convert data to the format required by surprise library\n",
        "reader = Reader(rating_scale=(df['rating'].min(), df['rating'].max()))\n",
        "data = Dataset.load_from_df(df[['user_id_maped', 'program_name', 'rating']], reader)\n",
        "\n",
        "# Build the full trainset for the model\n",
        "trainset = data.build_full_trainset()"
      ],
      "metadata": {
        "id": "sPLqIbyIyKRB"
      },
      "id": "sPLqIbyIyKRB",
      "execution_count": null,
      "outputs": []
    },
    {
      "cell_type": "code",
      "source": [
        "model = SVD()\n",
        "model.fit(trainset)"
      ],
      "metadata": {
        "id": "8zucGfx-yRsH"
      },
      "id": "8zucGfx-yRsH",
      "execution_count": null,
      "outputs": []
    },
    {
      "cell_type": "code",
      "source": [
        "# Evaluate the model\n",
        "cross_validate(model, data, measures=['RMSE', 'MAE'], cv=5, verbose=True)\n"
      ],
      "metadata": {
        "id": "meulcLOSyUH2"
      },
      "id": "meulcLOSyUH2",
      "execution_count": null,
      "outputs": []
    },
    {
      "cell_type": "code",
      "source": [
        "# Identify users who watched \"Moana\"\n",
        "moana_viewers = df[df['program_name'] == 'Moana']['user_id_maped'].unique()"
      ],
      "metadata": {
        "id": "lfuGmix7yYXq"
      },
      "id": "lfuGmix7yYXq",
      "execution_count": null,
      "outputs": []
    },
    {
      "cell_type": "code",
      "source": [
        "# Function to get top n recommendations for a user\n",
        "def get_top_n_recommendations(user_id, n=5):\n",
        "    # Get a list of all program names\n",
        "    all_programs = df['program_name'].unique()\n",
        "\n",
        "    # Predict ratings for all programs\n",
        "    predictions = [model.predict(user_id, program) for program in all_programs]\n",
        "\n",
        "    # Sort predictions by estimated rating\n",
        "    predictions.sort(key=lambda x: x.est, reverse=True)\n",
        "\n",
        "    # Get top n recommendations\n",
        "    top_n = predictions[:n]\n",
        "\n",
        "    # Extract the program names from the recommendations\n",
        "    top_n_programs = [pred.iid for pred in top_n]\n",
        "\n",
        "    return top_n_programs"
      ],
      "metadata": {
        "id": "kMWFiRGlybMb"
      },
      "id": "kMWFiRGlybMb",
      "execution_count": null,
      "outputs": []
    },
    {
      "cell_type": "code",
      "execution_count": null,
      "id": "32973350",
      "metadata": {
        "id": "32973350"
      },
      "outputs": [],
      "source": [
        "\"\"\"\n",
        "TODO show the recommendations (top 5) for the people who watched \"Moana\" movie\n",
        "\"\"\""
      ]
    },
    {
      "cell_type": "code",
      "source": [
        "# Generate and display recommendations for each user who watched \"Moana\"\n",
        "moana_recommendations = {user: get_top_n_recommendations(user, n=5) for user in moana_viewers}\n",
        "\n",
        "print(moana_recommendations)"
      ],
      "metadata": {
        "id": "z1mwLOAKzGPp"
      },
      "id": "z1mwLOAKzGPp",
      "execution_count": null,
      "outputs": []
    },
    {
      "cell_type": "code",
      "source": [
        "# visualization using Plotly\n",
        "for user, recommendations in moana_recommendations.items():\n",
        "    print(f\"Recommendations for user {user}: {recommendations}\")"
      ],
      "metadata": {
        "id": "MTBjbXWIzLMF"
      },
      "id": "MTBjbXWIzLMF",
      "execution_count": null,
      "outputs": []
    }
  ],
  "metadata": {
    "kernelspec": {
      "display_name": "Python 3 (ipykernel)",
      "language": "python",
      "name": "python3"
    },
    "language_info": {
      "codemirror_mode": {
        "name": "ipython",
        "version": 3
      },
      "file_extension": ".py",
      "mimetype": "text/x-python",
      "name": "python",
      "nbconvert_exporter": "python",
      "pygments_lexer": "ipython3",
      "version": "3.8.8"
    },
    "colab": {
      "provenance": []
    }
  },
  "nbformat": 4,
  "nbformat_minor": 5
}